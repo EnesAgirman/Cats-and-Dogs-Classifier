{
 "cells": [
  {
   "cell_type": "code",
   "execution_count": 4,
   "metadata": {},
   "outputs": [],
   "source": [
    "import os\n",
    "import numpy as np\n",
    "import zipfile\n",
    "from ultralytics import YOLO\n",
    "import torch\n",
    "from torch.utils.data import Dataset, DataLoader\n",
    "import torchvision\n",
    "from torchvision import transforms\n",
    "import cv2 as cv\n",
    "import pandas as pd\n",
    "import matplotlib.pyplot as plt"
   ]
  },
  {
   "cell_type": "code",
   "execution_count": 12,
   "metadata": {},
   "outputs": [
    {
     "name": "stdout",
     "output_type": "stream",
     "text": [
      "The file is not unzipped, unzipping it now\n"
     ]
    }
   ],
   "source": [
    "# if it is unzipped, unzip kagglecatsanddogs_5340.zip\n",
    "if not os.path.exists('PetImages'):\n",
    "    # unzip kagglecatsanddogs_5340.zip\n",
    "    print(\"The file is not unzipped, unzipping it now\")\n",
    "    with zipfile.ZipFile(\"kagglecatsanddogs_5340.zip\",\"r\") as zip_ref:\n",
    "        zip_ref.extractall()\n",
    "    # delete unnecessary files\n",
    "    os.remove(\"CDLA-Permissive-2.0.pdf\")\n",
    "    os.remove(\"readme[1].txt\")\n",
    "else:\n",
    "    print(\"The file is already unzipped\")"
   ]
  },
  {
   "cell_type": "code",
   "execution_count": 25,
   "metadata": {},
   "outputs": [
    {
     "name": "stdout",
     "output_type": "stream",
     "text": [
      "   A  B\n",
      "0  1  2\n"
     ]
    }
   ],
   "source": [
    "myDf = pd.DataFrame(columns=[\"A\", \"B\"])\n",
    "# add a row to the dataframe\n",
    "myDf.loc[0] = [1, 2]\n",
    "print(myDf.head())"
   ]
  },
  {
   "cell_type": "code",
   "execution_count": 26,
   "metadata": {},
   "outputs": [
    {
     "name": "stdout",
     "output_type": "stream",
     "text": [
      "Creating images folder and labels dataframe\n",
      "OpenCV(4.6.0) D:\\a\\opencv-python\\opencv-python\\opencv\\modules\\imgcodecs\\src\\loadsave.cpp:816: error: (-215:Assertion failed) !buf.empty() in function 'cv::imdecode_'\n",
      "\n",
      "Deleting  PetImages/Cat/666.jpg\n",
      "OpenCV(4.6.0) D:\\a\\opencv-python\\opencv-python\\opencv\\modules\\imgcodecs\\src\\loadsave.cpp:816: error: (-215:Assertion failed) !buf.empty() in function 'cv::imdecode_'\n",
      "\n",
      "Deleting  PetImages/Dog/11702.jpg\n"
     ]
    }
   ],
   "source": [
    "# rename the images as img_0.jpg, img_1.jpg, etc. and save the labels in a pandas dataframe where 0 is cat and 1 is dog\n",
    "# there is ID and label in the dataframe\n",
    "# the labels are 0 for cat and 1 for dog\n",
    "# images folder should be in the same directory as this file\n",
    "\n",
    "if not os.path.exists('images'):\n",
    "    print(\"Creating images folder and labels dataframe\")\n",
    "    os.makedirs('images')\n",
    "    labels = pd.DataFrame(columns=['ID', 'label'])\n",
    "    count = 0\n",
    "    for folder in ['Cat', 'Dog']:\n",
    "        for i, file in enumerate(os.listdir('PetImages/'+folder)):\n",
    "            try:\n",
    "                img_array = cv.imread('PetImages/'+folder+'/'+file)\n",
    "                os.rename('PetImages/'+folder+'/'+file, 'images/img_'+str(count)+'.jpg')\n",
    "                labels.loc[count] = [count, 0 if folder == 'Cat' else 1]\n",
    "                count += 1\n",
    "            except Exception as e:\n",
    "                print(e)\n",
    "                print('Deleting ', 'PetImages/'+folder+'/'+file)\n",
    "                os.remove('PetImages/'+folder+'/'+file)\n",
    "    # delete the PetImages folder\n",
    "    if os.path.exists('PetImages'):\n",
    "        if os.path.exists('PetImages/Cat'):\n",
    "            os.rmdir('PetImages/Cat')\n",
    "        if os.path.exists('PetImages/Dog'):\n",
    "            os.rmdir('PetImages/Dog')\n",
    "        os.rmdir('PetImages')\n",
    "    #  save the labels dataframe as a csv file\n",
    "    labels.to_csv('labels.csv')\n",
    "else:\n",
    "    print(\"images folder already exists\")\n",
    "\n",
    "        "
   ]
  },
  {
   "cell_type": "code",
   "execution_count": null,
   "metadata": {},
   "outputs": [],
   "source": [
    "#defining dataset class\n",
    "class Dataset(torch.utils.data.Dataset):\n",
    "      'Characterizes a dataset for PyTorch'\n",
    "      def __init__(self, image_dir, label_dir, transform=None):\n",
    "            'Initialization'\n",
    "            self.image_dir = image_dir\n",
    "            self.label_dir = label_dir\n",
    "            self.transform = transform\n",
    "\n",
    "            self.labels = pd.read_csv(label_dir)\n",
    "            self.processed_images = self.process_images(self.image_dir)\n",
    "\n",
    "      def process_images(self, image_dir):\n",
    "            processed_images = []\n",
    "            for img in os.listdir(image_dir):\n",
    "                  img_array = cv.imread(image_dir + '/' + img)\n",
    "                  new_array = cv.resize(img_array, (256, 256))\n",
    "                  img = transforms.ToTensor()(img)\n",
    "                  img = transforms.Normalize((0.5, 0.5, 0.5), (0.5, 0.5, 0.5))(img) # Normalize the tensor values to the range (-1, 1)\n",
    "                  processed_images.append(new_array)\n",
    "            return processed_images\n",
    "\n",
    "\n",
    "      def __len__(self):\n",
    "            'Denotes the total number of images'\n",
    "            return len(self.process_images)\n",
    "\n",
    "      def __getitem__(self, index):\n",
    "            'Generates one sample of data'\n",
    "            # Select sample\n",
    "            ID = self.list_IDs[index]\n",
    "\n",
    "            # Load data and get label\n",
    "            X = torch.load('data/' + ID + '.pt')\n",
    "            y = self.labels[ID]\n",
    "\n",
    "            return X, y\n"
   ]
  },
  {
   "cell_type": "code",
   "execution_count": null,
   "metadata": {},
   "outputs": [],
   "source": []
  },
  {
   "cell_type": "code",
   "execution_count": null,
   "metadata": {},
   "outputs": [],
   "source": []
  },
  {
   "cell_type": "code",
   "execution_count": null,
   "metadata": {},
   "outputs": [],
   "source": []
  }
 ],
 "metadata": {
  "kernelspec": {
   "display_name": "Python 3",
   "language": "python",
   "name": "python3"
  },
  "language_info": {
   "codemirror_mode": {
    "name": "ipython",
    "version": 3
   },
   "file_extension": ".py",
   "mimetype": "text/x-python",
   "name": "python",
   "nbconvert_exporter": "python",
   "pygments_lexer": "ipython3",
   "version": "3.11.2"
  }
 },
 "nbformat": 4,
 "nbformat_minor": 2
}
